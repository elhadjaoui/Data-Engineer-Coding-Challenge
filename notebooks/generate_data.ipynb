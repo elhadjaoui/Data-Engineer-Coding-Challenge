{
 "cells": [
  {
   "cell_type": "markdown",
   "id": "ad57bbc8-05fd-49fe-9b6a-9fae487cfa44",
   "metadata": {
    "jp-MarkdownHeadingCollapsed": true
   },
   "source": [
    " **Install Needed Packages**"
   ]
  },
  {
   "cell_type": "code",
   "execution_count": null,
   "id": "1cf74138-04db-40d4-8fca-c5699c07cdb0",
   "metadata": {},
   "outputs": [],
   "source": [
    "!pip install faker\n",
    "!pip install mysql-connector-python\n",
    "!pip install python-dotenv"
   ]
  },
  {
   "cell_type": "markdown",
   "id": "fdbabbc0-d70c-472c-985f-d437efa24da7",
   "metadata": {},
   "source": [
    "**Import the Packages**    "
   ]
  },
  {
   "cell_type": "code",
   "execution_count": null,
   "id": "4229f269-04dc-4fd2-8b1e-da01c4ac0ddb",
   "metadata": {},
   "outputs": [],
   "source": [
    "import random\n",
    "from faker import Faker\n",
    "import mysql.connector\n",
    "from  mysql.connector import Error\n",
    "from dotenv import load_dotenv\n",
    "import os"
   ]
  },
  {
   "cell_type": "code",
   "execution_count": null,
   "id": "71473202-3305-4704-a1b7-4b311aed17eb",
   "metadata": {},
   "outputs": [],
   "source": [
    "fake = Faker()\n",
    "load_dotenv()"
   ]
  },
  {
   "cell_type": "markdown",
   "id": "b791d557-2b38-4fda-85ba-ac5b8b674129",
   "metadata": {},
   "source": [
    "**Creat Server Connection**"
   ]
  },
  {
   "cell_type": "code",
   "execution_count": 17,
   "id": "23d5eb83-c03b-4459-93ac-afa589ac23de",
   "metadata": {},
   "outputs": [],
   "source": [
    "def create_server_connection():\n",
    "    \"\"\"Create a connection to the MySQL server without specifying a database\"\"\"\n",
    "    try:\n",
    "        connection = mysql.connector.connect(\n",
    "            host=os.getenv('DB_HOST'),\n",
    "            user=os.getenv('DB_USER'),\n",
    "            password=os.getenv('DB_PASSWORD'),\n",
    "            # database=os.getenv('DEFAULT_DB')\n",
    "        )\n",
    "        print(\"MySQL Server connection successful\")\n",
    "        return connection\n",
    "    except Error as err:\n",
    "        print(f\"Error: '{err}'\")\n",
    "        return None"
   ]
  },
  {
   "cell_type": "code",
   "execution_count": 18,
   "id": "d1774f1d-a36f-460e-8096-3799852f0530",
   "metadata": {},
   "outputs": [
    {
     "name": "stdout",
     "output_type": "stream",
     "text": [
      "MySQL Server connection successful\n"
     ]
    }
   ],
   "source": [
    "conn = create_server_connection()"
   ]
  },
  {
   "cell_type": "markdown",
   "id": "6a0cc79e-7c81-434b-a1dd-1c4b722dfabe",
   "metadata": {},
   "source": [
    "**Create Database**"
   ]
  },
  {
   "cell_type": "code",
   "execution_count": 19,
   "id": "23fdfb3d-21ca-48aa-8fe8-acddc24cec2d",
   "metadata": {},
   "outputs": [],
   "source": [
    "def create_database(connection):\n",
    "    \"\"\"Create a new database.\"\"\"\n",
    "    cursor = connection.cursor()\n",
    "    try:\n",
    "        cursor.execute(f\"CREATE DATABASE IF NOT EXISTS {os.getenv('DB_NAME')}\")\n",
    "        print(f\"Database '{os.getenv('DB_NAME')}' created successfully\")\n",
    "    except Error as err:\n",
    "        print(f\"Error: '{err}'\")"
   ]
  },
  {
   "cell_type": "code",
   "execution_count": 20,
   "id": "ba11d88a-db80-46c6-aa4b-159d41633eb3",
   "metadata": {},
   "outputs": [
    {
     "name": "stdout",
     "output_type": "stream",
     "text": [
      "Database 'coding_challenge_data' created successfully\n"
     ]
    }
   ],
   "source": [
    "create_database(conn)\n",
    "conn.close()"
   ]
  },
  {
   "cell_type": "markdown",
   "id": "97e03798-8a80-419e-bcd9-9409b1d73bbf",
   "metadata": {},
   "source": [
    "**Connect To Database**"
   ]
  },
  {
   "cell_type": "code",
   "execution_count": 21,
   "id": "296b5b4a-f342-4999-badc-b14cc22a56c3",
   "metadata": {},
   "outputs": [],
   "source": [
    "def create_db_connection():\n",
    "    \"\"\"Create a connection to a specific database.\"\"\"\n",
    "    try:\n",
    "        connection = mysql.connector.connect(\n",
    "            host=os.getenv('DB_HOST'),\n",
    "            user=os.getenv('DB_USER'),\n",
    "            password=os.getenv('DB_PASSWORD'),\n",
    "            database=os.getenv('DB_NAME')\n",
    "        )\n",
    "        print(f\"MySQL Database connection to '{os.getenv('DB_NAME')}' successful\")\n",
    "        return connection\n",
    "    except Error as err:\n",
    "        print(f\"Error: '{err}'\")\n",
    "        return None"
   ]
  },
  {
   "cell_type": "code",
   "execution_count": 22,
   "id": "a597bb89-b2af-4c1f-848b-69b8bfc53672",
   "metadata": {},
   "outputs": [
    {
     "name": "stdout",
     "output_type": "stream",
     "text": [
      "MySQL Database connection to 'coding_challenge_data' successful\n"
     ]
    }
   ],
   "source": [
    "db_conn = create_db_connection()"
   ]
  },
  {
   "cell_type": "markdown",
   "id": "617e1052-6a6b-49d1-819f-8febb0449ddc",
   "metadata": {},
   "source": [
    "**Create Tables**"
   ]
  },
  {
   "cell_type": "code",
   "execution_count": 23,
   "id": "90bb43b8-1394-45f4-9395-5e1780ae11b4",
   "metadata": {},
   "outputs": [],
   "source": [
    "def create_tables(conn):\n",
    "    cursor = conn.cursor()\n",
    "    try:\n",
    "        cursor.execute('''\n",
    "        CREATE TABLE IF NOT EXISTS countries (\n",
    "            id INT AUTO_INCREMENT PRIMARY KEY,\n",
    "            name VARCHAR(255) NOT NULL,\n",
    "            created_at DATETIME NOT NULL\n",
    "        )''')\n",
    "\n",
    "        cursor.execute('''\n",
    "        CREATE TABLE IF NOT EXISTS stores (\n",
    "            id INT AUTO_INCREMENT PRIMARY KEY,\n",
    "            slug VARCHAR(255) NOT NULL,\n",
    "            created_at DATETIME NOT NULL,\n",
    "            country_id INT,\n",
    "            FOREIGN KEY (country_id) REFERENCES countries (id)\n",
    "        )''')\n",
    "\n",
    "        cursor.execute('''\n",
    "        CREATE TABLE IF NOT EXISTS products (\n",
    "            id INT AUTO_INCREMENT PRIMARY KEY,\n",
    "            slug VARCHAR(255) NOT NULL,\n",
    "            price DECIMAL(10,2) NOT NULL,\n",
    "            store_id INT,\n",
    "            FOREIGN KEY (store_id) REFERENCES stores (id)\n",
    "        )''')\n",
    "\n",
    "        cursor.execute('''\n",
    "        CREATE TABLE IF NOT EXISTS orders (\n",
    "            id INT AUTO_INCREMENT PRIMARY KEY,\n",
    "            type VARCHAR(255) NOT NULL,  \n",
    "            created_at DATETIME NOT NULL,\n",
    "            store_id INT,\n",
    "            FOREIGN KEY (store_id) REFERENCES stores (id)\n",
    "        )''')\n",
    "\n",
    "        cursor.execute('''\n",
    "        CREATE TABLE IF NOT EXISTS order_items (\n",
    "            order_id INT,\n",
    "            product_id INT,\n",
    "            quantity INT NOT NULL,\n",
    "            FOREIGN KEY (order_id) REFERENCES orders (id),\n",
    "            FOREIGN KEY (product_id) REFERENCES products (id),\n",
    "            PRIMARY KEY (order_id, product_id)\n",
    "        )''')\n",
    "\n",
    "        conn.commit()\n",
    "        print(\"Tables created successfully\")\n",
    "    except Error as err:\n",
    "        print(f\"Error: '{err}'\")\n",
    "        exit(1)"
   ]
  },
  {
   "cell_type": "code",
   "execution_count": 24,
   "id": "6361def0-fb78-49a1-bab5-980ff14f95ed",
   "metadata": {},
   "outputs": [
    {
     "name": "stdout",
     "output_type": "stream",
     "text": [
      "Tables created successfully\n"
     ]
    }
   ],
   "source": [
    "create_tables(db_conn)"
   ]
  },
  {
   "cell_type": "markdown",
   "id": "e604b706-856a-4604-b5f6-3f0eeff0a0c1",
   "metadata": {},
   "source": [
    "**Generate Countries**"
   ]
  },
  {
   "cell_type": "code",
   "execution_count": 25,
   "id": "f15b6b67-3135-4b76-8c5d-e994bfa1256e",
   "metadata": {},
   "outputs": [],
   "source": [
    "def generate_countries(conn, num_countries):\n",
    "    cursor = conn.cursor()\n",
    "    for _ in range(num_countries):\n",
    "        name = fake.country()\n",
    "        created_at = fake.date_time_between(start_date='-5y', end_date='now')\n",
    "        cursor.execute('INSERT INTO countries (name, created_at) VALUES (%s, %s)', (name, created_at))\n",
    "    conn.commit()"
   ]
  },
  {
   "cell_type": "code",
   "execution_count": 30,
   "id": "7d20eaaa-3056-43a9-8f04-c2aa6e72a5a1",
   "metadata": {},
   "outputs": [],
   "source": [
    "generate_countries(db_conn, 10)"
   ]
  },
  {
   "cell_type": "markdown",
   "id": "6054cc1e-1f99-4251-9685-b4c4035a0d01",
   "metadata": {},
   "source": [
    "**Generate Stores**"
   ]
  },
  {
   "cell_type": "code",
   "execution_count": 26,
   "id": "79abf73e-b10a-4684-a53f-64d1c9cfeca1",
   "metadata": {},
   "outputs": [],
   "source": [
    "def generate_stores(conn, num_stores):\n",
    "    cursor = conn.cursor()\n",
    "    cursor.execute('SELECT id FROM countries')\n",
    "    countries = cursor.fetchall()\n",
    "    for _ in range(num_stores):\n",
    "        slug = fake.slug()\n",
    "        created_at = fake.date_time_between(start_date='-5y', end_date='now')\n",
    "        country_id = random.choice(countries)[0]\n",
    "        cursor.execute('INSERT INTO stores (slug, created_at, country_id) VALUES (%s, %s, %s)', (slug, created_at, country_id))\n",
    "    conn.commit()"
   ]
  },
  {
   "cell_type": "code",
   "execution_count": 31,
   "id": "e16eca7e-4d42-4936-a5a0-da25e9cbe7ec",
   "metadata": {},
   "outputs": [],
   "source": [
    "generate_stores(db_conn, 50)"
   ]
  },
  {
   "cell_type": "markdown",
   "id": "b5078a81-e1e5-410d-8f39-b060c8cda68a",
   "metadata": {},
   "source": [
    "**Generate Products**"
   ]
  },
  {
   "cell_type": "code",
   "execution_count": null,
   "id": "3b4c4f37-2fcb-416f-a98b-774a992627bb",
   "metadata": {},
   "outputs": [],
   "source": [
    "def generate_products(conn, num_products):\n",
    "    cursor = conn.cursor()\n",
    "    cursor.execute('SELECT id FROM stores')\n",
    "    stores = cursor.fetchall()\n",
    "    for _ in range(num_products):\n",
    "        slug = fake.slug()\n",
    "        price = round(random.uniform(1, 1000), 2)\n",
    "        store_id = random.choice(stores)[0]\n",
    "        cursor.execute('INSERT INTO products (slug, price, store_id) VALUES (%s, %s, %s)', (slug, price, store_id))\n",
    "    conn.commit()"
   ]
  },
  {
   "cell_type": "code",
   "execution_count": 32,
   "id": "2fd1dc7b-ff07-4f34-8bb0-121911d38e0b",
   "metadata": {},
   "outputs": [],
   "source": [
    "generate_products(db_conn, 1000)"
   ]
  },
  {
   "cell_type": "markdown",
   "id": "187ce02e-a60e-47d2-9e01-4baffaab15aa",
   "metadata": {},
   "source": [
    "**Generate Orders**"
   ]
  },
  {
   "cell_type": "code",
   "execution_count": 28,
   "id": "0c8b56a2-9908-4f1b-8201-41d09c9b7c87",
   "metadata": {},
   "outputs": [],
   "source": [
    "def generate_orders(conn, num_orders):\n",
    "    cursor = conn.cursor()\n",
    "    cursor.execute('SELECT id, created_at FROM stores')\n",
    "    stores = cursor.fetchall()\n",
    "    order_types = ['online', 'in-store', 'phone']\n",
    "    \n",
    "    for _ in range(num_orders):\n",
    "        order_type = random.choice(order_types)\n",
    "        store_id, store_created_at = random.choice(stores)\n",
    "        created_at = fake.date_time_between(start_date=store_created_at, end_date='now')\n",
    "        cursor.execute('INSERT INTO orders (type, created_at, store_id) VALUES (%s, %s, %s)', (order_type, created_at, store_id))\n",
    "    conn.commit()"
   ]
  },
  {
   "cell_type": "code",
   "execution_count": 33,
   "id": "0b4343d5-555e-4eaf-aaaa-aa99c870807f",
   "metadata": {},
   "outputs": [],
   "source": [
    "generate_orders(db_conn, 10000)"
   ]
  },
  {
   "cell_type": "markdown",
   "id": "32e81892-2a24-4c2b-a5e5-af3f20235295",
   "metadata": {},
   "source": [
    "**Generate Order Items**"
   ]
  },
  {
   "cell_type": "code",
   "execution_count": 34,
   "id": "84e6c9cf-f61a-4f2c-a183-369144edb221",
   "metadata": {},
   "outputs": [
    {
     "name": "stdout",
     "output_type": "stream",
     "text": [
      "Error: '1062 (23000): Duplicate entry '4204-832' for key 'order_items.PRIMARY''\n",
      "Order ID: 4204, Product ID: 832, Quantity: 3\n",
      "Error: '1062 (23000): Duplicate entry '4482-189' for key 'order_items.PRIMARY''\n",
      "Order ID: 4482, Product ID: 189, Quantity: 5\n",
      "Error: '1062 (23000): Duplicate entry '9130-468' for key 'order_items.PRIMARY''\n",
      "Order ID: 9130, Product ID: 468, Quantity: 1\n",
      "Error: '1062 (23000): Duplicate entry '1612-490' for key 'order_items.PRIMARY''\n",
      "Order ID: 1612, Product ID: 490, Quantity: 3\n",
      "Error: '1062 (23000): Duplicate entry '7703-360' for key 'order_items.PRIMARY''\n",
      "Order ID: 7703, Product ID: 360, Quantity: 5\n",
      "Error: '1062 (23000): Duplicate entry '6933-812' for key 'order_items.PRIMARY''\n",
      "Order ID: 6933, Product ID: 812, Quantity: 2\n",
      "Error: '1062 (23000): Duplicate entry '7305-187' for key 'order_items.PRIMARY''\n",
      "Order ID: 7305, Product ID: 187, Quantity: 4\n",
      "Error: '1062 (23000): Duplicate entry '7317-648' for key 'order_items.PRIMARY''\n",
      "Order ID: 7317, Product ID: 648, Quantity: 2\n",
      "Error: '1062 (23000): Duplicate entry '7332-954' for key 'order_items.PRIMARY''\n",
      "Order ID: 7332, Product ID: 954, Quantity: 4\n",
      "Error: '1062 (23000): Duplicate entry '7440-628' for key 'order_items.PRIMARY''\n",
      "Order ID: 7440, Product ID: 628, Quantity: 5\n",
      "Error: '1062 (23000): Duplicate entry '4014-130' for key 'order_items.PRIMARY''\n",
      "Order ID: 4014, Product ID: 130, Quantity: 2\n",
      "Error: '1062 (23000): Duplicate entry '8924-531' for key 'order_items.PRIMARY''\n",
      "Order ID: 8924, Product ID: 531, Quantity: 2\n",
      "Error: '1062 (23000): Duplicate entry '579-621' for key 'order_items.PRIMARY''\n",
      "Order ID: 579, Product ID: 621, Quantity: 4\n",
      "Error: '1062 (23000): Duplicate entry '805-149' for key 'order_items.PRIMARY''\n",
      "Order ID: 805, Product ID: 149, Quantity: 3\n",
      "Error: '1062 (23000): Duplicate entry '3132-426' for key 'order_items.PRIMARY''\n",
      "Order ID: 3132, Product ID: 426, Quantity: 5\n",
      "Error: '1062 (23000): Duplicate entry '4620-195' for key 'order_items.PRIMARY''\n",
      "Order ID: 4620, Product ID: 195, Quantity: 4\n",
      "Error: '1062 (23000): Duplicate entry '7732-991' for key 'order_items.PRIMARY''\n",
      "Order ID: 7732, Product ID: 991, Quantity: 5\n",
      "Error: '1062 (23000): Duplicate entry '1335-315' for key 'order_items.PRIMARY''\n",
      "Order ID: 1335, Product ID: 315, Quantity: 5\n",
      "Error: '1062 (23000): Duplicate entry '3315-796' for key 'order_items.PRIMARY''\n",
      "Order ID: 3315, Product ID: 796, Quantity: 5\n",
      "Error: '1062 (23000): Duplicate entry '6582-203' for key 'order_items.PRIMARY''\n",
      "Order ID: 6582, Product ID: 203, Quantity: 1\n",
      "Error: '1062 (23000): Duplicate entry '2298-364' for key 'order_items.PRIMARY''\n",
      "Order ID: 2298, Product ID: 364, Quantity: 1\n",
      "Error: '1062 (23000): Duplicate entry '128-210' for key 'order_items.PRIMARY''\n",
      "Order ID: 128, Product ID: 210, Quantity: 5\n",
      "Error: '1062 (23000): Duplicate entry '1255-16' for key 'order_items.PRIMARY''\n",
      "Order ID: 1255, Product ID: 16, Quantity: 2\n",
      "Error: '1062 (23000): Duplicate entry '9539-987' for key 'order_items.PRIMARY''\n",
      "Order ID: 9539, Product ID: 987, Quantity: 1\n",
      "Error: '1062 (23000): Duplicate entry '6329-774' for key 'order_items.PRIMARY''\n",
      "Order ID: 6329, Product ID: 774, Quantity: 3\n",
      "Error: '1062 (23000): Duplicate entry '467-97' for key 'order_items.PRIMARY''\n",
      "Order ID: 467, Product ID: 97, Quantity: 3\n",
      "Error: '1062 (23000): Duplicate entry '5641-517' for key 'order_items.PRIMARY''\n",
      "Order ID: 5641, Product ID: 517, Quantity: 1\n",
      "Error: '1062 (23000): Duplicate entry '7993-589' for key 'order_items.PRIMARY''\n",
      "Order ID: 7993, Product ID: 589, Quantity: 3\n",
      "Error: '1062 (23000): Duplicate entry '1438-248' for key 'order_items.PRIMARY''\n",
      "Order ID: 1438, Product ID: 248, Quantity: 5\n",
      "Error: '1062 (23000): Duplicate entry '5106-208' for key 'order_items.PRIMARY''\n",
      "Order ID: 5106, Product ID: 208, Quantity: 5\n",
      "Error: '1062 (23000): Duplicate entry '3052-705' for key 'order_items.PRIMARY''\n",
      "Order ID: 3052, Product ID: 705, Quantity: 3\n",
      "Error: '1062 (23000): Duplicate entry '9845-773' for key 'order_items.PRIMARY''\n",
      "Order ID: 9845, Product ID: 773, Quantity: 2\n",
      "Error: '1062 (23000): Duplicate entry '8024-330' for key 'order_items.PRIMARY''\n",
      "Order ID: 8024, Product ID: 330, Quantity: 5\n",
      "Error: '1062 (23000): Duplicate entry '8290-688' for key 'order_items.PRIMARY''\n",
      "Order ID: 8290, Product ID: 688, Quantity: 4\n",
      "Error: '1062 (23000): Duplicate entry '3089-946' for key 'order_items.PRIMARY''\n",
      "Order ID: 3089, Product ID: 946, Quantity: 3\n",
      "Error: '1062 (23000): Duplicate entry '4806-110' for key 'order_items.PRIMARY''\n",
      "Order ID: 4806, Product ID: 110, Quantity: 4\n",
      "Error: '1062 (23000): Duplicate entry '9802-402' for key 'order_items.PRIMARY''\n",
      "Order ID: 9802, Product ID: 402, Quantity: 3\n",
      "Error: '1062 (23000): Duplicate entry '1579-96' for key 'order_items.PRIMARY''\n",
      "Order ID: 1579, Product ID: 96, Quantity: 5\n",
      "Error: '1062 (23000): Duplicate entry '3066-782' for key 'order_items.PRIMARY''\n",
      "Order ID: 3066, Product ID: 782, Quantity: 4\n",
      "Error: '1062 (23000): Duplicate entry '8508-105' for key 'order_items.PRIMARY''\n",
      "Order ID: 8508, Product ID: 105, Quantity: 1\n",
      "Error: '1062 (23000): Duplicate entry '9232-310' for key 'order_items.PRIMARY''\n",
      "Order ID: 9232, Product ID: 310, Quantity: 3\n",
      "Error: '1062 (23000): Duplicate entry '2487-461' for key 'order_items.PRIMARY''\n",
      "Order ID: 2487, Product ID: 461, Quantity: 1\n",
      "Error: '1062 (23000): Duplicate entry '3839-826' for key 'order_items.PRIMARY''\n",
      "Order ID: 3839, Product ID: 826, Quantity: 2\n",
      "Error: '1062 (23000): Duplicate entry '5829-124' for key 'order_items.PRIMARY''\n",
      "Order ID: 5829, Product ID: 124, Quantity: 5\n",
      "Error: '1062 (23000): Duplicate entry '107-673' for key 'order_items.PRIMARY''\n",
      "Order ID: 107, Product ID: 673, Quantity: 1\n",
      "Error: '1062 (23000): Duplicate entry '647-692' for key 'order_items.PRIMARY''\n",
      "Order ID: 647, Product ID: 692, Quantity: 1\n",
      "Error: '1062 (23000): Duplicate entry '3398-129' for key 'order_items.PRIMARY''\n",
      "Order ID: 3398, Product ID: 129, Quantity: 4\n",
      "Error: '1062 (23000): Duplicate entry '7455-243' for key 'order_items.PRIMARY''\n",
      "Order ID: 7455, Product ID: 243, Quantity: 1\n",
      "Error: '1062 (23000): Duplicate entry '4840-644' for key 'order_items.PRIMARY''\n",
      "Order ID: 4840, Product ID: 644, Quantity: 5\n",
      "Error: '1062 (23000): Duplicate entry '7234-73' for key 'order_items.PRIMARY''\n",
      "Order ID: 7234, Product ID: 73, Quantity: 1\n",
      "Error: '1062 (23000): Duplicate entry '3579-352' for key 'order_items.PRIMARY''\n",
      "Order ID: 3579, Product ID: 352, Quantity: 3\n",
      "Error: '1062 (23000): Duplicate entry '3195-847' for key 'order_items.PRIMARY''\n",
      "Order ID: 3195, Product ID: 847, Quantity: 2\n",
      "Error: '1062 (23000): Duplicate entry '5240-588' for key 'order_items.PRIMARY''\n",
      "Order ID: 5240, Product ID: 588, Quantity: 1\n",
      "Error: '1062 (23000): Duplicate entry '638-715' for key 'order_items.PRIMARY''\n",
      "Order ID: 638, Product ID: 715, Quantity: 2\n",
      "Error: '1062 (23000): Duplicate entry '1522-285' for key 'order_items.PRIMARY''\n",
      "Order ID: 1522, Product ID: 285, Quantity: 4\n",
      "Error: '1062 (23000): Duplicate entry '1995-287' for key 'order_items.PRIMARY''\n",
      "Order ID: 1995, Product ID: 287, Quantity: 4\n",
      "Error: '1062 (23000): Duplicate entry '6747-781' for key 'order_items.PRIMARY''\n",
      "Order ID: 6747, Product ID: 781, Quantity: 5\n",
      "Error: '1062 (23000): Duplicate entry '4329-148' for key 'order_items.PRIMARY''\n",
      "Order ID: 4329, Product ID: 148, Quantity: 2\n",
      "Error: '1062 (23000): Duplicate entry '6554-51' for key 'order_items.PRIMARY''\n",
      "Order ID: 6554, Product ID: 51, Quantity: 4\n",
      "Error: '1062 (23000): Duplicate entry '6825-593' for key 'order_items.PRIMARY''\n",
      "Order ID: 6825, Product ID: 593, Quantity: 5\n",
      "Error: '1062 (23000): Duplicate entry '4630-583' for key 'order_items.PRIMARY''\n",
      "Order ID: 4630, Product ID: 583, Quantity: 2\n",
      "Error: '1062 (23000): Duplicate entry '88-177' for key 'order_items.PRIMARY''\n",
      "Order ID: 88, Product ID: 177, Quantity: 1\n",
      "Error: '1062 (23000): Duplicate entry '9837-713' for key 'order_items.PRIMARY''\n",
      "Order ID: 9837, Product ID: 713, Quantity: 3\n",
      "Error: '1062 (23000): Duplicate entry '2272-248' for key 'order_items.PRIMARY''\n",
      "Order ID: 2272, Product ID: 248, Quantity: 2\n",
      "Error: '1062 (23000): Duplicate entry '3465-162' for key 'order_items.PRIMARY''\n",
      "Order ID: 3465, Product ID: 162, Quantity: 4\n",
      "Error: '1062 (23000): Duplicate entry '5093-612' for key 'order_items.PRIMARY''\n",
      "Order ID: 5093, Product ID: 612, Quantity: 2\n",
      "Error: '1062 (23000): Duplicate entry '6595-719' for key 'order_items.PRIMARY''\n",
      "Order ID: 6595, Product ID: 719, Quantity: 3\n",
      "Error: '1062 (23000): Duplicate entry '9484-809' for key 'order_items.PRIMARY''\n",
      "Order ID: 9484, Product ID: 809, Quantity: 2\n"
     ]
    }
   ],
   "source": [
    "generate_order_items(db_conn, 3)"
   ]
  },
  {
   "cell_type": "code",
   "execution_count": 29,
   "id": "94ba0a5e-113e-4135-953f-66d448cb2555",
   "metadata": {},
   "outputs": [],
   "source": [
    "def generate_order_items(conn, avg_items_per_order):\n",
    "    cursor = conn.cursor()\n",
    "    cursor.execute('SELECT id FROM orders')\n",
    "    orders = cursor.fetchall()\n",
    "    cursor.execute('SELECT id FROM products')\n",
    "    products = cursor.fetchall()\n",
    "    \n",
    "    for order in orders:\n",
    "        num_items = random.randint(1, avg_items_per_order *2)\n",
    "        for _ in range(num_items):\n",
    "            product_id = random.choice(products)[0]\n",
    "            quantity = random.randint(1, 5)\n",
    "            try:\n",
    "                cursor.execute('INSERT INTO order_items (order_id, product_id, quantity) VALUES (%s, %s, %s)', (order[0], product_id, quantity))\n",
    "            except Error as err:\n",
    "                print(f\"Error: '{err}'\")\n",
    "                print(f\"Order ID: {order[0]}, Product ID: {product_id}, Quantity: {quantity}\")\n",
    "    conn.commit()"
   ]
  }
 ],
 "metadata": {
  "kernelspec": {
   "display_name": "Python 3 (ipykernel)",
   "language": "python",
   "name": "python3"
  },
  "language_info": {
   "codemirror_mode": {
    "name": "ipython",
    "version": 3
   },
   "file_extension": ".py",
   "mimetype": "text/x-python",
   "name": "python",
   "nbconvert_exporter": "python",
   "pygments_lexer": "ipython3",
   "version": "3.11.9"
  }
 },
 "nbformat": 4,
 "nbformat_minor": 5
}
